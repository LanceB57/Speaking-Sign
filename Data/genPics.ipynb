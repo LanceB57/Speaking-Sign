{
 "metadata": {
  "language_info": {
   "codemirror_mode": {
    "name": "ipython",
    "version": 3
   },
   "file_extension": ".py",
   "mimetype": "text/x-python",
   "name": "python",
   "nbconvert_exporter": "python",
   "pygments_lexer": "ipython3",
   "version": "3.8.6-final"
  },
  "orig_nbformat": 2,
  "kernelspec": {
   "name": "python3",
   "display_name": "Python 3.8.6 64-bit",
   "metadata": {
    "interpreter": {
     "hash": "4384dcddf0d7db325caf41cb44765b5d26c61ec41dbf5a18dc647772f770a992"
    }
   }
  }
 },
 "nbformat": 4,
 "nbformat_minor": 2,
 "cells": [
  {
   "source": [
    "# Generate Pictures\n",
    "My pixel data is currently in a single row in an Excel file. Because I'm not sure how to develop a Convolution Neural Network with these in MATLAB, I think it may be easier to develop these pictures beforehand using Python."
   ],
   "cell_type": "markdown",
   "metadata": {}
  },
  {
   "cell_type": "code",
   "execution_count": 1,
   "metadata": {},
   "outputs": [],
   "source": [
    "import pandas as pd\n",
    "from PIL import Image"
   ]
  },
  {
   "source": [
    "## Generate Test Pictures"
   ],
   "cell_type": "markdown",
   "metadata": {}
  },
  {
   "cell_type": "code",
   "execution_count": 14,
   "metadata": {
    "tags": []
   },
   "outputs": [
    {
     "output_type": "stream",
     "name": "stdout",
     "text": [
      "0\n",
      "1000\n",
      "2000\n",
      "3000\n",
      "4000\n",
      "5000\n",
      "6000\n",
      "7000\n"
     ]
    }
   ],
   "source": [
    "test = pd.read_csv(\"test/sign_mnist_test.csv\")\n",
    "for i in range(len(test)):\n",
    "    row = test.iloc[i]\n",
    "    label = row['label']\n",
    "    label = chr(label + ord('A'))\n",
    "    path = \"test/images/\" + label + \"/\" + str(i) + \".png\"\n",
    "\n",
    "    im = Image.new('L', (28, 28))\n",
    "    im.putdata(row[1:])\n",
    "    im.save(path)\n",
    "    if i % 1000 == 0:\n",
    "        print(i)"
   ]
  },
  {
   "source": [
    "## Generate Training Pictures"
   ],
   "cell_type": "markdown",
   "metadata": {}
  },
  {
   "cell_type": "code",
   "execution_count": 15,
   "metadata": {},
   "outputs": [
    {
     "output_type": "stream",
     "name": "stdout",
     "text": [
      "0\n",
      "1000\n",
      "2000\n",
      "3000\n",
      "4000\n",
      "5000\n",
      "6000\n",
      "7000\n",
      "8000\n",
      "9000\n",
      "10000\n",
      "11000\n",
      "12000\n",
      "13000\n",
      "14000\n",
      "15000\n",
      "16000\n",
      "17000\n",
      "18000\n",
      "19000\n",
      "20000\n",
      "21000\n",
      "22000\n",
      "23000\n",
      "24000\n",
      "25000\n",
      "26000\n",
      "27000\n"
     ]
    }
   ],
   "source": [
    "train = pd.read_csv(\"train/sign_mnist_train.csv\")\n",
    "for i in range(len(train)):\n",
    "    row = train.iloc[i]\n",
    "    label = row['label']\n",
    "    label = chr(label + ord('A'))\n",
    "    path = \"train/images/\" + label + \"/\" + str(i) + \".png\"\n",
    "\n",
    "    im = Image.new('L', (28, 28))\n",
    "    im.putdata(row[1:])\n",
    "    im.save(path)\n",
    "    if i % 1000 == 0:\n",
    "        print(i)"
   ]
  }
 ]
}